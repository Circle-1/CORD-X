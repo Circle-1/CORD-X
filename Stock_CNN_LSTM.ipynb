{
  "nbformat": 4,
  "nbformat_minor": 0,
  "metadata": {
    "colab": {
      "name": "Stock-CNN-LSTM.ipynb",
      "provenance": []
    },
    "kernelspec": {
      "name": "python3",
      "display_name": "Python 3"
    },
    "language_info": {
      "name": "python"
    }
  },
  "cells": [
    {
      "cell_type": "markdown",
      "metadata": {
        "id": "7mh-B0TteDbL"
      },
      "source": [
        "## Data Preprocessing and Analysis part"
      ]
    },
    {
      "cell_type": "code",
      "metadata": {
        "id": "hwGt0HbHd5lC"
      },
      "source": [
        "# To be taken care...\n"
      ],
      "execution_count": null,
      "outputs": []
    },
    {
      "cell_type": "markdown",
      "metadata": {
        "id": "2Q_YNBh7eVJc"
      },
      "source": [
        "## Training part"
      ]
    },
    {
      "cell_type": "code",
      "metadata": {
        "id": "3zdTNZR-eXyK"
      },
      "source": [
        "# Here 2 members need to take care...\n"
      ],
      "execution_count": null,
      "outputs": []
    },
    {
      "cell_type": "markdown",
      "metadata": {
        "id": "_m_9SoL0ecNe"
      },
      "source": [
        "## Testing part"
      ]
    },
    {
      "cell_type": "code",
      "metadata": {
        "id": "7RaR7nDZebaZ"
      },
      "source": [
        "# Need to increase workload here... Requires planning!\n"
      ],
      "execution_count": null,
      "outputs": []
    }
  ]
}